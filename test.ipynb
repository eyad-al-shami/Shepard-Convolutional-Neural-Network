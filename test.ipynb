{
 "cells": [
  {
   "cell_type": "code",
   "execution_count": 25,
   "metadata": {},
   "outputs": [],
   "source": [
    "import torch\n",
    "import torch.nn as nn\n",
    "import torch.nn.functional as F\n",
    "import numpy as np"
   ]
  },
  {
   "cell_type": "code",
   "execution_count": 22,
   "metadata": {},
   "outputs": [
    {
     "name": "stdout",
     "output_type": "stream",
     "text": [
      "1024\n"
     ]
    }
   ],
   "source": [
    "from PIL import Image\n",
    "from PIL import ImageFont\n",
    "from PIL import ImageDraw \n",
    "\n",
    "img = Image.open(\"./image.jpg\")\n",
    "draw = ImageDraw.Draw(img)\n",
    "\n",
    "# font = ImageFont.truetype(<font-file>, <font-size>)\n",
    "font = ImageFont.truetype(\"Candarab.ttf\", 25)\n",
    "# draw.text((x, y),\"Sample Text\",(r,g,b))\n",
    "\n",
    "print(img.height)\n",
    "slack = 20\n",
    "text = \"\"\n",
    "text_size = 20\n",
    "text_width = len(\"random text \") * (text_size//2)\n",
    "text = \"random text \" * (img.width // text_width)\n",
    "mask = Image.new(mode=\"RGB\", size=img.size, color = 'white')\n",
    "mask_draw = ImageDraw.Draw(mask)\n",
    "for i in range(img.height // text_size):\n",
    "    draw.text((0, (i*text_size) + (i*slack)), text,(255,255,255), font=font)\n",
    "    mask_draw.text((0, (i*text_size) + (i*slack)), text, (0,0,0), font=font)\n",
    "img.save('./image-out.jpg')\n",
    "fn = lambda x : 255 if x > 200 else 0\n",
    "r = mask.convert('L').point(fn, mode='1')\n",
    "r.save('./mask-out.jpg')"
   ]
  },
  {
   "cell_type": "code",
   "execution_count": 4,
   "metadata": {},
   "outputs": [
    {
     "data": {
      "text/plain": [
       "['C:\\\\Windows\\\\Fonts\\\\arial.ttf',\n",
       " 'C:\\\\Windows\\\\Fonts\\\\arialbd.ttf',\n",
       " 'C:\\\\WINDOWS\\\\Fonts\\\\arial.ttf',\n",
       " 'C:\\\\Windows\\\\Fonts\\\\ariali.ttf',\n",
       " 'C:\\\\Windows\\\\Fonts\\\\arialbi.ttf',\n",
       " 'C:\\\\WINDOWS\\\\Fonts\\\\arialbd.ttf',\n",
       " 'C:\\\\WINDOWS\\\\Fonts\\\\arialbi.ttf',\n",
       " 'C:\\\\WINDOWS\\\\Fonts\\\\ariali.ttf']"
      ]
     },
     "execution_count": 4,
     "metadata": {},
     "output_type": "execute_result"
    }
   ],
   "source": [
    "import matplotlib.font_manager\n",
    "l = matplotlib.font_manager.findSystemFonts(fontpaths=None, fontext='ttf')\n",
    "list(filter(lambda x: 'arial' in x, l))"
   ]
  },
  {
   "cell_type": "code",
   "execution_count": 5,
   "metadata": {},
   "outputs": [
    {
     "data": {
      "text/plain": [
       "tensor([4])"
      ]
     },
     "execution_count": 5,
     "metadata": {},
     "output_type": "execute_result"
    }
   ],
   "source": [
    "torch.randint(3, 5, (1, ))"
   ]
  },
  {
   "cell_type": "code",
   "execution_count": 20,
   "metadata": {},
   "outputs": [
    {
     "data": {
      "text/plain": [
       "38"
      ]
     },
     "execution_count": 20,
     "metadata": {},
     "output_type": "execute_result"
    }
   ],
   "source": [
    "# get value from torch (1, 1)\n",
    "torch.randint(0, (250 * 20) // 100, (1, )).item()"
   ]
  },
  {
   "cell_type": "code",
   "execution_count": 23,
   "metadata": {},
   "outputs": [
    {
     "name": "stdout",
     "output_type": "stream",
     "text": [
      "(1024, 1024)\n"
     ]
    }
   ],
   "source": [
    "img = Image.open(\"./image.jpg\")\n",
    "print(img.size)\n",
    "mask = Image.new(mode=\"RGB\", size=img.size, color = 'white')"
   ]
  },
  {
   "cell_type": "code",
   "execution_count": 28,
   "metadata": {},
   "outputs": [
    {
     "name": "stdout",
     "output_type": "stream",
     "text": [
      "(1024, 1024, 3)\n",
      "255\n",
      "255\n",
      "255\n"
     ]
    }
   ],
   "source": [
    "mask = np.array(mask)\n",
    "print(mask.shape)\n",
    "print(mask[0, 0, 0])\n",
    "print(mask[0, 0, 1])\n",
    "print(mask[0, 0, 2])"
   ]
  },
  {
   "cell_type": "code",
   "execution_count": 29,
   "metadata": {},
   "outputs": [],
   "source": [
    "img = Image.open(\"./image.jpg\")\n",
    "im = np.array(img)\n",
    "# zero out rectangle\n",
    "im[0:100, 0:100, :] = 0\n",
    "# save img\n",
    "# img = Image.fromarray(im)\n",
    "img.save('./image-out-test.jpg')"
   ]
  },
  {
   "cell_type": "code",
   "execution_count": 31,
   "metadata": {},
   "outputs": [
    {
     "name": "stdout",
     "output_type": "stream",
     "text": [
      "22\n"
     ]
    }
   ],
   "source": [
    "with open(\"./mit-words.txt\", \"r\", encoding=\"utf-8\") as f:\n",
    "    words = f.read().splitlines()\n",
    "    print(max([len(word) for word in words]))"
   ]
  },
  {
   "cell_type": "code",
   "execution_count": 39,
   "metadata": {},
   "outputs": [
    {
     "data": {
      "text/plain": [
       "'eyad dedo fedo dedo eyad eyad'"
      ]
     },
     "execution_count": 39,
     "metadata": {},
     "output_type": "execute_result"
    }
   ],
   "source": [
    "np.random.choice([1, 2, 4, 5, 1], 2)\n",
    "\" \".join(np.random.choice([\"eyad\", \"dedo\", \"fedo\"], 6))"
   ]
  },
  {
   "cell_type": "code",
   "execution_count": 2,
   "metadata": {},
   "outputs": [
    {
     "data": {
      "text/plain": [
       "['.\\\\image-out-test.jpg',\n",
       " '.\\\\image-out.jpg',\n",
       " '.\\\\image.jpg',\n",
       " '.\\\\mask-out.jpg']"
      ]
     },
     "execution_count": 2,
     "metadata": {},
     "output_type": "execute_result"
    }
   ],
   "source": [
    "from glob import glob\n",
    "import os\n",
    "glob(os.path.join('.', '*.jpg'))"
   ]
  },
  {
   "cell_type": "code",
   "execution_count": 1,
   "metadata": {},
   "outputs": [],
   "source": [
    "from glob import glob"
   ]
  },
  {
   "cell_type": "code",
   "execution_count": 4,
   "metadata": {},
   "outputs": [
    {
     "name": "stdout",
     "output_type": "stream",
     "text": [
      "['./images\\\\New folder\\\\8022.jpg', './images\\\\New folder\\\\Sorrow-Donato-1200.jpg', './images\\\\New folder\\\\189089972_324342139056174_5903225519993275786_n.png']\n"
     ]
    }
   ],
   "source": [
    "images = []\n",
    "extensions = ['jpg', 'png', 'jpeg']\n",
    "root_dir = './images'\n",
    "for extension in extensions:\n",
    "    images.extend(glob(os.path.join(root_dir, '**\\*.{}'.format(extension))))\n",
    "print(images)"
   ]
  },
  {
   "cell_type": "code",
   "execution_count": 6,
   "metadata": {},
   "outputs": [],
   "source": [
    "def f(nested=False):\n",
    "    images = []\n",
    "    extensions = ['jpg', 'png', 'jpeg']\n",
    "    root_dir = './images'\n",
    "    search_pattern = '*.{}' if not nested else '**/*.{}'\n",
    "    for extension in extensions:\n",
    "        images.extend(glob(os.path.join(root_dir, search_pattern.format(extension))))\n",
    "    print(images)"
   ]
  },
  {
   "cell_type": "code",
   "execution_count": 8,
   "metadata": {},
   "outputs": [
    {
     "name": "stdout",
     "output_type": "stream",
     "text": [
      "['./images\\\\New folder\\\\8022.jpg', './images\\\\New folder\\\\Sorrow-Donato-1200.jpg', './images\\\\New folder\\\\189089972_324342139056174_5903225519993275786_n.png']\n"
     ]
    }
   ],
   "source": []
  },
  {
   "cell_type": "code",
   "execution_count": null,
   "metadata": {},
   "outputs": [],
   "source": []
  }
 ],
 "metadata": {
  "kernelspec": {
   "display_name": "Python 3.8.8 ('base')",
   "language": "python",
   "name": "python3"
  },
  "language_info": {
   "codemirror_mode": {
    "name": "ipython",
    "version": 3
   },
   "file_extension": ".py",
   "mimetype": "text/x-python",
   "name": "python",
   "nbconvert_exporter": "python",
   "pygments_lexer": "ipython3",
   "version": "3.8.8"
  },
  "orig_nbformat": 4,
  "vscode": {
   "interpreter": {
    "hash": "a90aeebcf29d64a654773811cc170cb25061cb2498f10ac689db374c7bf325de"
   }
  }
 },
 "nbformat": 4,
 "nbformat_minor": 2
}
