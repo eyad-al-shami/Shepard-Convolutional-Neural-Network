{
  "cells": [
    {
      "cell_type": "markdown",
      "metadata": {
        "id": "WkoFDQfPToYk"
      },
      "source": [
        "Installing pytorch_lightning package, it is like keras for tensorflow"
      ]
    },
    {
      "cell_type": "code",
      "execution_count": null,
      "metadata": {
        "colab": {
          "base_uri": "https://localhost:8080/"
        },
        "id": "nizhsacbTj8C",
        "outputId": "422f0071-e18b-4cf4-93cc-bff5c89caf41"
      },
      "outputs": [
        {
          "name": "stdout",
          "output_type": "stream",
          "text": [
            "\u001b[K     |████████████████████████████████| 585 kB 14.4 MB/s \n",
            "\u001b[K     |████████████████████████████████| 140 kB 77.3 MB/s \n",
            "\u001b[K     |████████████████████████████████| 596 kB 92.1 MB/s \n",
            "\u001b[K     |████████████████████████████████| 419 kB 97.4 MB/s \n",
            "\u001b[K     |████████████████████████████████| 1.1 MB 74.9 MB/s \n",
            "\u001b[K     |████████████████████████████████| 271 kB 94.2 MB/s \n",
            "\u001b[K     |████████████████████████████████| 94 kB 1.6 MB/s \n",
            "\u001b[K     |████████████████████████████████| 144 kB 81.9 MB/s \n",
            "\u001b[?25h"
          ]
        }
      ],
      "source": [
        "!pip install pytorch_lightning -qq"
      ]
    },
    {
      "cell_type": "code",
      "execution_count": 2,
      "metadata": {
        "id": "Dh9oEzNVp5__"
      },
      "outputs": [],
      "source": [
        "import matplotlib as mpl\n",
        "import matplotlib.pyplot as plt\n",
        "import numpy as np\n",
        "from scipy.spatial import distance\n",
        "import random\n",
        "import torch\n",
        "import os\n",
        "import gdown\n",
        "import torch.nn as nn\n",
        "import torch.nn.functional as F\n",
        "from ShConv import ShConv\n",
        "from utils import LayersHyperParameters\n",
        "import pytorch_lightning as pl\n",
        "from torch.utils.data import Dataset, DataLoader, random_split\n",
        "from torchvision import transforms as T\n",
        "from transforms import CutOutRectangles, RandomText, ToTensor\n",
        "from pytorch_lightning import Trainer, seed_everything\n",
        "\n",
        "from dataset import ImageInpaintingDataset"
      ]
    },
    {
      "cell_type": "markdown",
      "metadata": {
        "id": "8RiRfHSBIBmA"
      },
      "source": [
        "For reproducability, fixing the random seeds for all the packages used in this notebook"
      ]
    },
    {
      "cell_type": "code",
      "execution_count": 3,
      "metadata": {
        "id": "GedK-5K2qcN4"
      },
      "outputs": [
        {
          "name": "stderr",
          "output_type": "stream",
          "text": [
            "Global seed set to 877\n"
          ]
        },
        {
          "data": {
            "text/plain": [
              "877"
            ]
          },
          "execution_count": 3,
          "metadata": {},
          "output_type": "execute_result"
        }
      ],
      "source": [
        "# fix the seed\n",
        "seed = 877\n",
        "torch.manual_seed(seed)\n",
        "random.seed(seed)\n",
        "np.random.seed(seed)\n",
        "\n",
        "seed_everything(seed, workers=True)"
      ]
    },
    {
      "cell_type": "markdown",
      "metadata": {
        "id": "88JFEmwYG5zv"
      },
      "source": [
        "**Dataset**  \n",
        "I used the thumbnails128x128 version of the [Flickr-Faces-HQ Dataset (FFHQ)](https://github.com/NVlabs/ffhq-dataset), which comprises of 70,000 images of the size 128 * 128 in PNG format."
      ]
    },
    {
      "cell_type": "code",
      "execution_count": 4,
      "metadata": {},
      "outputs": [],
      "source": [
        "TEST_SPLIT = 0.15\n",
        "VALIDATION_SPLIT = 0.1"
      ]
    },
    {
      "cell_type": "code",
      "execution_count": 5,
      "metadata": {
        "colab": {
          "base_uri": "https://localhost:8080/"
        },
        "id": "lOP9gUJbJchB",
        "outputId": "5aa0895a-9a5c-443d-fa01-c7f6512b978d"
      },
      "outputs": [
        {
          "name": "stdout",
          "output_type": "stream",
          "text": [
            "inside init of CutOutRectangles\n",
            "53550 5950 10500\n"
          ]
        }
      ],
      "source": [
        "data_path = r\"C:\\Users\\eyad\\Pictures\\Images Datasets\\Filcker Faces thumbnails 128x128\"\n",
        "\n",
        "dataset = ImageInpaintingDataset(root_dir=data_path, transform=T.Compose([\n",
        "                                            CutOutRectangles(num_rectangles=2),\n",
        "                                            # RandomText(text_size=25),\n",
        "                                            ToTensor()\n",
        "                                        ]),\n",
        "                                        extensions=['png'],\n",
        "                                        nested=True)\n",
        "\n",
        "dataset_size = len(dataset)\n",
        "\n",
        "split = int(np.floor(TEST_SPLIT * dataset_size))\n",
        "\n",
        "train_set, test_set = random_split(dataset, [dataset_size - split, split], generator=torch.Generator().manual_seed(seed))\n",
        "\n",
        "trainset_size = len(train_set)\n",
        "\n",
        "split = int(np.floor(VALIDATION_SPLIT * trainset_size))\n",
        "\n",
        "train_set, validation_set = random_split(train_set, [trainset_size - split, split], generator=torch.Generator().manual_seed(seed))\n",
        "\n",
        "print(len(train_set), len(validation_set), len(test_set))\n",
        "\n",
        "train_dataloader = DataLoader(train_set, batch_size=32,\n",
        "                    shuffle=True, num_workers=7)\n",
        "\n",
        "\n",
        "\n",
        "validation_dataloader = DataLoader(validation_set, batch_size=32,\n",
        "                    shuffle=False, num_workers=3)\n",
        "\n",
        "test_dataloader = DataLoader(test_set, batch_size=32,\n",
        "                    shuffle=False, num_workers=2)"
      ]
    },
    {
      "cell_type": "code",
      "execution_count": 6,
      "metadata": {},
      "outputs": [],
      "source": [
        "LR = 1e-3"
      ]
    },
    {
      "cell_type": "code",
      "execution_count": 7,
      "metadata": {
        "id": "tq9J3mM1RIJB"
      },
      "outputs": [],
      "source": [
        "class ShepardNet(pl.LightningModule):\n",
        "    def __init__(self, layers):\n",
        "        super(ShepardNet, self).__init__()\n",
        "        self.layers = layers\n",
        "        the_input_layer = LayersHyperParameters(self.layers[0].layer_type, 3, self.layers[0].kernel_size)\n",
        "        self.layers = [the_input_layer, *self.layers]\n",
        "        self.modules_list = nn.ModuleList()\n",
        "        for i, (input_layer, output_layer) in enumerate(zip(self.layers[:-1], self.layers[1:])):\n",
        "            if (output_layer.layer_type == 'conv'):\n",
        "                self.modules_list.append(nn.Conv2d(input_layer.kernels_num, output_layer.kernels_num, output_layer.kernel_size, stride=output_layer.stride, padding=output_layer.padding))\n",
        "                self.modules_list.append(nn.ReLU())\n",
        "                if (i != len(self.layers) - 1):\n",
        "                    self.modules_list.append(nn.BatchNorm2d(output_layer.kernels_num))\n",
        "            else:\n",
        "                self.modules_list.append(ShConv(input_layer.kernels_num, output_layer.kernels_num, output_layer.kernel_size, stride=output_layer.stride, padding=output_layer.padding))\n",
        "                self.modules_list.append(nn.ReLU())\n",
        "                if (i != len(self.layers) - 1):\n",
        "                    self.modules_list.append(nn.BatchNorm2d(output_layer.kernels_num))\n",
        "        # saving the hyperparameters.\n",
        "        self.save_hyperparameters()\n",
        "\n",
        "    def forward(self, masks, x):\n",
        "        for layer in self.modules_list:\n",
        "            if isinstance(layer, ShConv):\n",
        "                x, masks = layer(masks, x)\n",
        "            else:\n",
        "                x = layer(x)\n",
        "        return x, masks\n",
        "\n",
        "    def training_step(self, batch, batch_idx):\n",
        "        # training_step defines the train loop.\n",
        "        original, x, masks = batch['original'], batch['corrupted'], batch['mask']\n",
        "        for layer in self.modules_list:\n",
        "          if isinstance(layer, ShConv):\n",
        "              x, masks = layer(masks, x)\n",
        "          else:\n",
        "              x = layer(x)\n",
        "        loss = F.mse_loss(original, x)\n",
        "        return loss\n",
        "\n",
        "    def test_step(self, batch, batch_idx):\n",
        "        # this is the test loop\n",
        "        original, x, masks = batch['original'], batch['corrupted'], batch['mask']\n",
        "        for layer in self.modules_list:\n",
        "          if isinstance(layer, ShConv):\n",
        "              x, masks = layer(masks, x)\n",
        "          else:\n",
        "              x = layer(x)\n",
        "        test_loss = F.mse_loss(original, x)\n",
        "        self.log(\"test_loss\", test_loss)\n",
        "\n",
        "    def validation_step(self, batch, batch_idx):\n",
        "        # this is the validation loop\n",
        "        original, x, masks = batch['original'], batch['corrupted'], batch['mask']\n",
        "        for layer in self.modules_list:\n",
        "          if isinstance(layer, ShConv):\n",
        "              x, masks = layer(masks, x)\n",
        "          else:\n",
        "              x = layer(x)\n",
        "        val_loss = F.mse_loss(original, x)\n",
        "        self.log(\"val_loss\", val_loss, prog_bar=True)\n",
        "\n",
        "    def configure_optimizers(self):\n",
        "        optimizer = torch.optim.Adam(self.parameters(), lr=LR)\n",
        "        return optimizer"
      ]
    },
    {
      "cell_type": "code",
      "execution_count": 8,
      "metadata": {
        "colab": {
          "base_uri": "https://localhost:8080/",
          "height": 1000,
          "referenced_widgets": [
            "e5084c419ac0471a8f17f79230102bfe",
            "242ab6a8392441f1aed1a69278eae5c6",
            "7a6917b917fd4190a6707ea608965560",
            "8b718196913642ff856c990e9f943088",
            "d1622c46c058460ea955286fe1602510",
            "e0dedc7bff7a4c91b126dd2699084c56",
            "c0ec5f52ddde461c955e3e10b1514146",
            "f5f1f2279962421cb8f17cfdd038504c",
            "687541726e0e4f3cb4bed036b9148900",
            "3c46ddf75d824f6e9e58cdec21c8b7b9",
            "d1cfb03879b44ee8ac7101511eba112e",
            "480a9dbfca6349239c82e9e67c5134d1",
            "2ce8c0771e7742ed91bce3f014c9a6ed",
            "d9ffc73e528d4aa2abe4be0e0e876a94",
            "481e02aad73d463f95d547528a4aacac",
            "d90052b943cb49ff97dc82c4b743b4f5",
            "07fc9b48849b4faeaae343e604ad968e",
            "d627470398904a6891a929651804ff68",
            "a9cb2f834c154b96b948929f11946b51",
            "110661351f91401ba66f20d092900d5a",
            "31f571d39c204a349b3e498b60de0e69",
            "453a9dc67f584bf7aded57f0d2159976"
          ]
        },
        "id": "h_kxIilnT8mr",
        "outputId": "96199969-4028-4fb3-99f0-a0ce284a2637"
      },
      "outputs": [
        {
          "name": "stderr",
          "output_type": "stream",
          "text": [
            "GPU available: True, used: True\n",
            "TPU available: False, using: 0 TPU cores\n",
            "IPU available: False, using: 0 IPUs\n",
            "HPU available: False, using: 0 HPUs\n",
            "LOCAL_RANK: 0 - CUDA_VISIBLE_DEVICES: [0]\n",
            "\n",
            "  | Name         | Type       | Params\n",
            "--------------------------------------------\n",
            "0 | modules_list | ModuleList | 6.6 K \n",
            "--------------------------------------------\n",
            "6.6 K     Trainable params\n",
            "0         Non-trainable params\n",
            "6.6 K     Total params\n",
            "0.026     Total estimated model params size (MB)\n"
          ]
        },
        {
          "data": {
            "application/vnd.jupyter.widget-view+json": {
              "model_id": "2be054001a914bbe9a8dda368c2699d0",
              "version_major": 2,
              "version_minor": 0
            },
            "text/plain": [
              "Sanity Checking: 0it [00:00, ?it/s]"
            ]
          },
          "metadata": {},
          "output_type": "display_data"
        },
        {
          "data": {
            "application/vnd.jupyter.widget-view+json": {
              "model_id": "37836402dfb94f4780a1bd1e7f3a9748",
              "version_major": 2,
              "version_minor": 0
            },
            "text/plain": [
              "Training: 0it [00:00, ?it/s]"
            ]
          },
          "metadata": {},
          "output_type": "display_data"
        },
        {
          "name": "stderr",
          "output_type": "stream",
          "text": [
            "c:\\Users\\eyad\\anaconda3\\lib\\site-packages\\pytorch_lightning\\trainer\\trainer.py:726: UserWarning: Detected KeyboardInterrupt, attempting graceful shutdown...\n",
            "  rank_zero_warn(\"Detected KeyboardInterrupt, attempting graceful shutdown...\")\n"
          ]
        }
      ],
      "source": [
        "layers = [\n",
        "    LayersHyperParameters('shepard', 8, 7),\n",
        "    LayersHyperParameters('shepard', 8, 5),\n",
        "    LayersHyperParameters('conv', 10, 3),\n",
        "    LayersHyperParameters('conv', 25, 3),\n",
        "    LayersHyperParameters('conv', 3, 3),\n",
        "]\n",
        "net = ShepardNet(layers)\n",
        "\n",
        "trainer = pl.Trainer(accelerator=\"gpu\", max_epochs=4, deterministic=True)\n",
        "trainer.fit(net, train_dataloader, validation_dataloader)"
      ]
    },
    {
      "cell_type": "code",
      "execution_count": null,
      "metadata": {
        "colab": {
          "base_uri": "https://localhost:8080/"
        },
        "id": "F_R31XgAkamS",
        "outputId": "5da9103c-c2ce-4345-dcbb-292aaec9e52b"
      },
      "outputs": [
        {
          "name": "stdout",
          "output_type": "stream",
          "text": [
            "cuda:0\n",
            "torch.Size([13, 512, 32, 32])\n",
            "torch.Size([13, 512, 32, 32])\n"
          ]
        }
      ],
      "source": [
        "\n",
        "batch = 13\n",
        "in_channels = 8\n",
        "out_channels = 512\n",
        "kernel_size = 5\n",
        "stride = 1\n",
        "padding = 'same'\n",
        "# TODO: accept both int and string for padding\n",
        "device = torch.device(\"cuda:0\" if torch.cuda.is_available() else \"cpu\")\n",
        "shconv = ShConv(in_channels=in_channels, out_channels=out_channels, kernel_size=kernel_size, stride=stride, padding=padding)\n",
        "shconv.to(device)\n",
        "\n",
        "masks = torch.randn(batch, in_channels, 32, 32)\n",
        "x = torch.randn(batch, in_channels, 32, 32)\n",
        "x, masks = x.to(device), masks.to(device)\n",
        "output_features_map, output_mask = shconv(masks, x)\n",
        "print(output_features_map.shape)\n",
        "print(output_mask.shape)"
      ]
    }
  ],
  "metadata": {
    "accelerator": "GPU",
    "colab": {
      "machine_shape": "hm",
      "name": "Shepard Convolutional Neural Network.ipynb",
      "provenance": []
    },
    "gpuClass": "standard",
    "kernelspec": {
      "display_name": "Python 3.9.12 ('base')",
      "language": "python",
      "name": "python3"
    },
    "language_info": {
      "codemirror_mode": {
        "name": "ipython",
        "version": 3
      },
      "file_extension": ".py",
      "mimetype": "text/x-python",
      "name": "python",
      "nbconvert_exporter": "python",
      "pygments_lexer": "ipython3",
      "version": "3.9.12"
    },
    "vscode": {
      "interpreter": {
        "hash": "d17296f9576ae98ced2c20662b6cdff624d6f9b4648b21159b09d09e7a41ef9e"
      }
    },
    "widgets": {
      "application/vnd.jupyter.widget-state+json": {
        "07fc9b48849b4faeaae343e604ad968e": {
          "model_module": "@jupyter-widgets/base",
          "model_module_version": "1.2.0",
          "model_name": "LayoutModel",
          "state": {
            "_model_module": "@jupyter-widgets/base",
            "_model_module_version": "1.2.0",
            "_model_name": "LayoutModel",
            "_view_count": null,
            "_view_module": "@jupyter-widgets/base",
            "_view_module_version": "1.2.0",
            "_view_name": "LayoutView",
            "align_content": null,
            "align_items": null,
            "align_self": null,
            "border": null,
            "bottom": null,
            "display": null,
            "flex": null,
            "flex_flow": null,
            "grid_area": null,
            "grid_auto_columns": null,
            "grid_auto_flow": null,
            "grid_auto_rows": null,
            "grid_column": null,
            "grid_gap": null,
            "grid_row": null,
            "grid_template_areas": null,
            "grid_template_columns": null,
            "grid_template_rows": null,
            "height": null,
            "justify_content": null,
            "justify_items": null,
            "left": null,
            "margin": null,
            "max_height": null,
            "max_width": null,
            "min_height": null,
            "min_width": null,
            "object_fit": null,
            "object_position": null,
            "order": null,
            "overflow": null,
            "overflow_x": null,
            "overflow_y": null,
            "padding": null,
            "right": null,
            "top": null,
            "visibility": null,
            "width": null
          }
        },
        "110661351f91401ba66f20d092900d5a": {
          "model_module": "@jupyter-widgets/controls",
          "model_module_version": "1.5.0",
          "model_name": "ProgressStyleModel",
          "state": {
            "_model_module": "@jupyter-widgets/controls",
            "_model_module_version": "1.5.0",
            "_model_name": "ProgressStyleModel",
            "_view_count": null,
            "_view_module": "@jupyter-widgets/base",
            "_view_module_version": "1.2.0",
            "_view_name": "StyleView",
            "bar_color": null,
            "description_width": ""
          }
        },
        "242ab6a8392441f1aed1a69278eae5c6": {
          "model_module": "@jupyter-widgets/controls",
          "model_module_version": "1.5.0",
          "model_name": "HTMLModel",
          "state": {
            "_dom_classes": [],
            "_model_module": "@jupyter-widgets/controls",
            "_model_module_version": "1.5.0",
            "_model_name": "HTMLModel",
            "_view_count": null,
            "_view_module": "@jupyter-widgets/controls",
            "_view_module_version": "1.5.0",
            "_view_name": "HTMLView",
            "description": "",
            "description_tooltip": null,
            "layout": "IPY_MODEL_e0dedc7bff7a4c91b126dd2699084c56",
            "placeholder": "​",
            "style": "IPY_MODEL_c0ec5f52ddde461c955e3e10b1514146",
            "value": "Sanity Checking DataLoader 0: 100%"
          }
        },
        "2ce8c0771e7742ed91bce3f014c9a6ed": {
          "model_module": "@jupyter-widgets/controls",
          "model_module_version": "1.5.0",
          "model_name": "HTMLModel",
          "state": {
            "_dom_classes": [],
            "_model_module": "@jupyter-widgets/controls",
            "_model_module_version": "1.5.0",
            "_model_name": "HTMLModel",
            "_view_count": null,
            "_view_module": "@jupyter-widgets/controls",
            "_view_module_version": "1.5.0",
            "_view_name": "HTMLView",
            "description": "",
            "description_tooltip": null,
            "layout": "IPY_MODEL_07fc9b48849b4faeaae343e604ad968e",
            "placeholder": "​",
            "style": "IPY_MODEL_d627470398904a6891a929651804ff68",
            "value": "Epoch 0:   0%"
          }
        },
        "31f571d39c204a349b3e498b60de0e69": {
          "model_module": "@jupyter-widgets/base",
          "model_module_version": "1.2.0",
          "model_name": "LayoutModel",
          "state": {
            "_model_module": "@jupyter-widgets/base",
            "_model_module_version": "1.2.0",
            "_model_name": "LayoutModel",
            "_view_count": null,
            "_view_module": "@jupyter-widgets/base",
            "_view_module_version": "1.2.0",
            "_view_name": "LayoutView",
            "align_content": null,
            "align_items": null,
            "align_self": null,
            "border": null,
            "bottom": null,
            "display": null,
            "flex": null,
            "flex_flow": null,
            "grid_area": null,
            "grid_auto_columns": null,
            "grid_auto_flow": null,
            "grid_auto_rows": null,
            "grid_column": null,
            "grid_gap": null,
            "grid_row": null,
            "grid_template_areas": null,
            "grid_template_columns": null,
            "grid_template_rows": null,
            "height": null,
            "justify_content": null,
            "justify_items": null,
            "left": null,
            "margin": null,
            "max_height": null,
            "max_width": null,
            "min_height": null,
            "min_width": null,
            "object_fit": null,
            "object_position": null,
            "order": null,
            "overflow": null,
            "overflow_x": null,
            "overflow_y": null,
            "padding": null,
            "right": null,
            "top": null,
            "visibility": null,
            "width": null
          }
        },
        "3c46ddf75d824f6e9e58cdec21c8b7b9": {
          "model_module": "@jupyter-widgets/base",
          "model_module_version": "1.2.0",
          "model_name": "LayoutModel",
          "state": {
            "_model_module": "@jupyter-widgets/base",
            "_model_module_version": "1.2.0",
            "_model_name": "LayoutModel",
            "_view_count": null,
            "_view_module": "@jupyter-widgets/base",
            "_view_module_version": "1.2.0",
            "_view_name": "LayoutView",
            "align_content": null,
            "align_items": null,
            "align_self": null,
            "border": null,
            "bottom": null,
            "display": null,
            "flex": null,
            "flex_flow": null,
            "grid_area": null,
            "grid_auto_columns": null,
            "grid_auto_flow": null,
            "grid_auto_rows": null,
            "grid_column": null,
            "grid_gap": null,
            "grid_row": null,
            "grid_template_areas": null,
            "grid_template_columns": null,
            "grid_template_rows": null,
            "height": null,
            "justify_content": null,
            "justify_items": null,
            "left": null,
            "margin": null,
            "max_height": null,
            "max_width": null,
            "min_height": null,
            "min_width": null,
            "object_fit": null,
            "object_position": null,
            "order": null,
            "overflow": null,
            "overflow_x": null,
            "overflow_y": null,
            "padding": null,
            "right": null,
            "top": null,
            "visibility": null,
            "width": null
          }
        },
        "453a9dc67f584bf7aded57f0d2159976": {
          "model_module": "@jupyter-widgets/controls",
          "model_module_version": "1.5.0",
          "model_name": "DescriptionStyleModel",
          "state": {
            "_model_module": "@jupyter-widgets/controls",
            "_model_module_version": "1.5.0",
            "_model_name": "DescriptionStyleModel",
            "_view_count": null,
            "_view_module": "@jupyter-widgets/base",
            "_view_module_version": "1.2.0",
            "_view_name": "StyleView",
            "description_width": ""
          }
        },
        "480a9dbfca6349239c82e9e67c5134d1": {
          "model_module": "@jupyter-widgets/controls",
          "model_module_version": "1.5.0",
          "model_name": "HBoxModel",
          "state": {
            "_dom_classes": [],
            "_model_module": "@jupyter-widgets/controls",
            "_model_module_version": "1.5.0",
            "_model_name": "HBoxModel",
            "_view_count": null,
            "_view_module": "@jupyter-widgets/controls",
            "_view_module_version": "1.5.0",
            "_view_name": "HBoxView",
            "box_style": "",
            "children": [
              "IPY_MODEL_2ce8c0771e7742ed91bce3f014c9a6ed",
              "IPY_MODEL_d9ffc73e528d4aa2abe4be0e0e876a94",
              "IPY_MODEL_481e02aad73d463f95d547528a4aacac"
            ],
            "layout": "IPY_MODEL_d90052b943cb49ff97dc82c4b743b4f5"
          }
        },
        "481e02aad73d463f95d547528a4aacac": {
          "model_module": "@jupyter-widgets/controls",
          "model_module_version": "1.5.0",
          "model_name": "HTMLModel",
          "state": {
            "_dom_classes": [],
            "_model_module": "@jupyter-widgets/controls",
            "_model_module_version": "1.5.0",
            "_model_name": "HTMLModel",
            "_view_count": null,
            "_view_module": "@jupyter-widgets/controls",
            "_view_module_version": "1.5.0",
            "_view_name": "HTMLView",
            "description": "",
            "description_tooltip": null,
            "layout": "IPY_MODEL_31f571d39c204a349b3e498b60de0e69",
            "placeholder": "​",
            "style": "IPY_MODEL_453a9dc67f584bf7aded57f0d2159976",
            "value": " 0/2046 [00:00&lt;?, ?it/s]"
          }
        },
        "687541726e0e4f3cb4bed036b9148900": {
          "model_module": "@jupyter-widgets/controls",
          "model_module_version": "1.5.0",
          "model_name": "ProgressStyleModel",
          "state": {
            "_model_module": "@jupyter-widgets/controls",
            "_model_module_version": "1.5.0",
            "_model_name": "ProgressStyleModel",
            "_view_count": null,
            "_view_module": "@jupyter-widgets/base",
            "_view_module_version": "1.2.0",
            "_view_name": "StyleView",
            "bar_color": null,
            "description_width": ""
          }
        },
        "7a6917b917fd4190a6707ea608965560": {
          "model_module": "@jupyter-widgets/controls",
          "model_module_version": "1.5.0",
          "model_name": "FloatProgressModel",
          "state": {
            "_dom_classes": [],
            "_model_module": "@jupyter-widgets/controls",
            "_model_module_version": "1.5.0",
            "_model_name": "FloatProgressModel",
            "_view_count": null,
            "_view_module": "@jupyter-widgets/controls",
            "_view_module_version": "1.5.0",
            "_view_name": "ProgressView",
            "bar_style": "",
            "description": "",
            "description_tooltip": null,
            "layout": "IPY_MODEL_f5f1f2279962421cb8f17cfdd038504c",
            "max": 2,
            "min": 0,
            "orientation": "horizontal",
            "style": "IPY_MODEL_687541726e0e4f3cb4bed036b9148900",
            "value": 2
          }
        },
        "8b718196913642ff856c990e9f943088": {
          "model_module": "@jupyter-widgets/controls",
          "model_module_version": "1.5.0",
          "model_name": "HTMLModel",
          "state": {
            "_dom_classes": [],
            "_model_module": "@jupyter-widgets/controls",
            "_model_module_version": "1.5.0",
            "_model_name": "HTMLModel",
            "_view_count": null,
            "_view_module": "@jupyter-widgets/controls",
            "_view_module_version": "1.5.0",
            "_view_name": "HTMLView",
            "description": "",
            "description_tooltip": null,
            "layout": "IPY_MODEL_3c46ddf75d824f6e9e58cdec21c8b7b9",
            "placeholder": "​",
            "style": "IPY_MODEL_d1cfb03879b44ee8ac7101511eba112e",
            "value": " 2/2 [00:00&lt;00:00,  3.71it/s]"
          }
        },
        "a9cb2f834c154b96b948929f11946b51": {
          "model_module": "@jupyter-widgets/base",
          "model_module_version": "1.2.0",
          "model_name": "LayoutModel",
          "state": {
            "_model_module": "@jupyter-widgets/base",
            "_model_module_version": "1.2.0",
            "_model_name": "LayoutModel",
            "_view_count": null,
            "_view_module": "@jupyter-widgets/base",
            "_view_module_version": "1.2.0",
            "_view_name": "LayoutView",
            "align_content": null,
            "align_items": null,
            "align_self": null,
            "border": null,
            "bottom": null,
            "display": null,
            "flex": "2",
            "flex_flow": null,
            "grid_area": null,
            "grid_auto_columns": null,
            "grid_auto_flow": null,
            "grid_auto_rows": null,
            "grid_column": null,
            "grid_gap": null,
            "grid_row": null,
            "grid_template_areas": null,
            "grid_template_columns": null,
            "grid_template_rows": null,
            "height": null,
            "justify_content": null,
            "justify_items": null,
            "left": null,
            "margin": null,
            "max_height": null,
            "max_width": null,
            "min_height": null,
            "min_width": null,
            "object_fit": null,
            "object_position": null,
            "order": null,
            "overflow": null,
            "overflow_x": null,
            "overflow_y": null,
            "padding": null,
            "right": null,
            "top": null,
            "visibility": null,
            "width": null
          }
        },
        "c0ec5f52ddde461c955e3e10b1514146": {
          "model_module": "@jupyter-widgets/controls",
          "model_module_version": "1.5.0",
          "model_name": "DescriptionStyleModel",
          "state": {
            "_model_module": "@jupyter-widgets/controls",
            "_model_module_version": "1.5.0",
            "_model_name": "DescriptionStyleModel",
            "_view_count": null,
            "_view_module": "@jupyter-widgets/base",
            "_view_module_version": "1.2.0",
            "_view_name": "StyleView",
            "description_width": ""
          }
        },
        "d1622c46c058460ea955286fe1602510": {
          "model_module": "@jupyter-widgets/base",
          "model_module_version": "1.2.0",
          "model_name": "LayoutModel",
          "state": {
            "_model_module": "@jupyter-widgets/base",
            "_model_module_version": "1.2.0",
            "_model_name": "LayoutModel",
            "_view_count": null,
            "_view_module": "@jupyter-widgets/base",
            "_view_module_version": "1.2.0",
            "_view_name": "LayoutView",
            "align_content": null,
            "align_items": null,
            "align_self": null,
            "border": null,
            "bottom": null,
            "display": "inline-flex",
            "flex": null,
            "flex_flow": "row wrap",
            "grid_area": null,
            "grid_auto_columns": null,
            "grid_auto_flow": null,
            "grid_auto_rows": null,
            "grid_column": null,
            "grid_gap": null,
            "grid_row": null,
            "grid_template_areas": null,
            "grid_template_columns": null,
            "grid_template_rows": null,
            "height": null,
            "justify_content": null,
            "justify_items": null,
            "left": null,
            "margin": null,
            "max_height": null,
            "max_width": null,
            "min_height": null,
            "min_width": null,
            "object_fit": null,
            "object_position": null,
            "order": null,
            "overflow": null,
            "overflow_x": null,
            "overflow_y": null,
            "padding": null,
            "right": null,
            "top": null,
            "visibility": null,
            "width": "100%"
          }
        },
        "d1cfb03879b44ee8ac7101511eba112e": {
          "model_module": "@jupyter-widgets/controls",
          "model_module_version": "1.5.0",
          "model_name": "DescriptionStyleModel",
          "state": {
            "_model_module": "@jupyter-widgets/controls",
            "_model_module_version": "1.5.0",
            "_model_name": "DescriptionStyleModel",
            "_view_count": null,
            "_view_module": "@jupyter-widgets/base",
            "_view_module_version": "1.2.0",
            "_view_name": "StyleView",
            "description_width": ""
          }
        },
        "d627470398904a6891a929651804ff68": {
          "model_module": "@jupyter-widgets/controls",
          "model_module_version": "1.5.0",
          "model_name": "DescriptionStyleModel",
          "state": {
            "_model_module": "@jupyter-widgets/controls",
            "_model_module_version": "1.5.0",
            "_model_name": "DescriptionStyleModel",
            "_view_count": null,
            "_view_module": "@jupyter-widgets/base",
            "_view_module_version": "1.2.0",
            "_view_name": "StyleView",
            "description_width": ""
          }
        },
        "d90052b943cb49ff97dc82c4b743b4f5": {
          "model_module": "@jupyter-widgets/base",
          "model_module_version": "1.2.0",
          "model_name": "LayoutModel",
          "state": {
            "_model_module": "@jupyter-widgets/base",
            "_model_module_version": "1.2.0",
            "_model_name": "LayoutModel",
            "_view_count": null,
            "_view_module": "@jupyter-widgets/base",
            "_view_module_version": "1.2.0",
            "_view_name": "LayoutView",
            "align_content": null,
            "align_items": null,
            "align_self": null,
            "border": null,
            "bottom": null,
            "display": "inline-flex",
            "flex": null,
            "flex_flow": "row wrap",
            "grid_area": null,
            "grid_auto_columns": null,
            "grid_auto_flow": null,
            "grid_auto_rows": null,
            "grid_column": null,
            "grid_gap": null,
            "grid_row": null,
            "grid_template_areas": null,
            "grid_template_columns": null,
            "grid_template_rows": null,
            "height": null,
            "justify_content": null,
            "justify_items": null,
            "left": null,
            "margin": null,
            "max_height": null,
            "max_width": null,
            "min_height": null,
            "min_width": null,
            "object_fit": null,
            "object_position": null,
            "order": null,
            "overflow": null,
            "overflow_x": null,
            "overflow_y": null,
            "padding": null,
            "right": null,
            "top": null,
            "visibility": null,
            "width": "100%"
          }
        },
        "d9ffc73e528d4aa2abe4be0e0e876a94": {
          "model_module": "@jupyter-widgets/controls",
          "model_module_version": "1.5.0",
          "model_name": "FloatProgressModel",
          "state": {
            "_dom_classes": [],
            "_model_module": "@jupyter-widgets/controls",
            "_model_module_version": "1.5.0",
            "_model_name": "FloatProgressModel",
            "_view_count": null,
            "_view_module": "@jupyter-widgets/controls",
            "_view_module_version": "1.5.0",
            "_view_name": "ProgressView",
            "bar_style": "",
            "description": "",
            "description_tooltip": null,
            "layout": "IPY_MODEL_a9cb2f834c154b96b948929f11946b51",
            "max": 2046,
            "min": 0,
            "orientation": "horizontal",
            "style": "IPY_MODEL_110661351f91401ba66f20d092900d5a",
            "value": 0
          }
        },
        "e0dedc7bff7a4c91b126dd2699084c56": {
          "model_module": "@jupyter-widgets/base",
          "model_module_version": "1.2.0",
          "model_name": "LayoutModel",
          "state": {
            "_model_module": "@jupyter-widgets/base",
            "_model_module_version": "1.2.0",
            "_model_name": "LayoutModel",
            "_view_count": null,
            "_view_module": "@jupyter-widgets/base",
            "_view_module_version": "1.2.0",
            "_view_name": "LayoutView",
            "align_content": null,
            "align_items": null,
            "align_self": null,
            "border": null,
            "bottom": null,
            "display": null,
            "flex": null,
            "flex_flow": null,
            "grid_area": null,
            "grid_auto_columns": null,
            "grid_auto_flow": null,
            "grid_auto_rows": null,
            "grid_column": null,
            "grid_gap": null,
            "grid_row": null,
            "grid_template_areas": null,
            "grid_template_columns": null,
            "grid_template_rows": null,
            "height": null,
            "justify_content": null,
            "justify_items": null,
            "left": null,
            "margin": null,
            "max_height": null,
            "max_width": null,
            "min_height": null,
            "min_width": null,
            "object_fit": null,
            "object_position": null,
            "order": null,
            "overflow": null,
            "overflow_x": null,
            "overflow_y": null,
            "padding": null,
            "right": null,
            "top": null,
            "visibility": null,
            "width": null
          }
        },
        "e5084c419ac0471a8f17f79230102bfe": {
          "model_module": "@jupyter-widgets/controls",
          "model_module_version": "1.5.0",
          "model_name": "HBoxModel",
          "state": {
            "_dom_classes": [],
            "_model_module": "@jupyter-widgets/controls",
            "_model_module_version": "1.5.0",
            "_model_name": "HBoxModel",
            "_view_count": null,
            "_view_module": "@jupyter-widgets/controls",
            "_view_module_version": "1.5.0",
            "_view_name": "HBoxView",
            "box_style": "",
            "children": [
              "IPY_MODEL_242ab6a8392441f1aed1a69278eae5c6",
              "IPY_MODEL_7a6917b917fd4190a6707ea608965560",
              "IPY_MODEL_8b718196913642ff856c990e9f943088"
            ],
            "layout": "IPY_MODEL_d1622c46c058460ea955286fe1602510"
          }
        },
        "f5f1f2279962421cb8f17cfdd038504c": {
          "model_module": "@jupyter-widgets/base",
          "model_module_version": "1.2.0",
          "model_name": "LayoutModel",
          "state": {
            "_model_module": "@jupyter-widgets/base",
            "_model_module_version": "1.2.0",
            "_model_name": "LayoutModel",
            "_view_count": null,
            "_view_module": "@jupyter-widgets/base",
            "_view_module_version": "1.2.0",
            "_view_name": "LayoutView",
            "align_content": null,
            "align_items": null,
            "align_self": null,
            "border": null,
            "bottom": null,
            "display": null,
            "flex": "2",
            "flex_flow": null,
            "grid_area": null,
            "grid_auto_columns": null,
            "grid_auto_flow": null,
            "grid_auto_rows": null,
            "grid_column": null,
            "grid_gap": null,
            "grid_row": null,
            "grid_template_areas": null,
            "grid_template_columns": null,
            "grid_template_rows": null,
            "height": null,
            "justify_content": null,
            "justify_items": null,
            "left": null,
            "margin": null,
            "max_height": null,
            "max_width": null,
            "min_height": null,
            "min_width": null,
            "object_fit": null,
            "object_position": null,
            "order": null,
            "overflow": null,
            "overflow_x": null,
            "overflow_y": null,
            "padding": null,
            "right": null,
            "top": null,
            "visibility": null,
            "width": null
          }
        }
      }
    }
  },
  "nbformat": 4,
  "nbformat_minor": 0
}
